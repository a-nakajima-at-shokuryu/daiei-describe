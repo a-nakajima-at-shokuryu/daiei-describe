{
 "nbformat": 4,
 "nbformat_minor": 2,
 "metadata": {
  "language_info": {
   "name": "python",
   "codemirror_mode": {
    "name": "ipython",
    "version": 3
   },
   "version": "3.8.2-final"
  },
  "orig_nbformat": 2,
  "file_extension": ".py",
  "mimetype": "text/x-python",
  "name": "python",
  "npconvert_exporter": "python",
  "pygments_lexer": "ipython3",
  "version": 3,
  "kernelspec": {
   "name": "python38264bitbackendpipenv50f1dde6bcf04cd89a0cffef02be5d17",
   "display_name": "Python 3.8.2 64-bit ('backend': pipenv)"
  }
 },
 "cells": [
  {
   "cell_type": "code",
   "execution_count": 10,
   "metadata": {},
   "outputs": [],
   "source": [
    "import pyodbc \n",
    "import pandas as pd \n",
    "from pathlib import Path \n",
    "import os, sys \n",
    "\n",
    "app_root = str(Path('..').resolve().absolute())\n",
    "\n",
    "if (not app_root in sys.path):\n",
    "    sys.path.append(app_root)\n",
    "\n",
    "dsn = ';'.join([\n",
    "    'driver={SQL Server}', \n",
    "    f'server={daiei.SERVER}', \n",
    "    f'uid={daiei.USERNAME}', \n",
    "    f'pwd={daiei.PASSWORD}', \n",
    "])\n",
    "\n",
    "def daiei_data(sql): \n",
    "    with pyodbc.connect(dsn) as conn:\n",
    "        df = pd.read_sql(sql, conn)\n",
    "    return df "
   ]
  },
  {
   "cell_type": "code",
   "execution_count": 11,
   "metadata": {},
   "outputs": [],
   "source": [
    "import config.daiei as daiei\n",
    "import csv\n",
    "\n",
    "\n",
    "\n",
    "sql = '\\n'.join([\n",
    "    'select', \n",
    "    # 'TOP 10', \n",
    "    ','.join([\n",
    "        '*', \n",
    "        ]), \n",
    "    'from %s.dbo.%s' % (\n",
    "        daiei.DATABASE, \n",
    "        daiei.AITSAKMST, \n",
    "        ), \n",
    "    'where %s and %s' % (\n",
    "        daiei.DAIKYO_CONDITION, \n",
    "        daiei.URISAKI_CONDITION, \n",
    "        ), \n",
    "])\n",
    "\n",
    "df = daiei_data(sql)\n",
    "\n",
    "df.to_csv('urisaki_0281.csv', index=False, quoting=csv.QUOTE_ALL)"
   ]
  },
  {
   "cell_type": "code",
   "execution_count": 48,
   "metadata": {},
   "outputs": [],
   "source": [
    "sql = '\\n'.join([\n",
    "    'select', \n",
    "    # 'top 10', \n",
    "    ','.join([\n",
    "        '*', \n",
    "    ]), \n",
    "    'from %s.dbo.%s' % (\n",
    "        daiei.DATABASE, \n",
    "        daiei.URIKAKTRN, \n",
    "    ), \n",
    "    'where %s' % ' and '.join([\n",
    "        'URI_SISCD=%s' % (daiei.DAIKYO_BUSCD[0:2]), \n",
    "        'URI_BUSCD=%s' % (daiei.DAIKYO_BUSCD[2:4]), \n",
    "        \"URI_SRYMD between '%s' and '%s'\" % (\n",
    "            '2020-01-01', \n",
    "            '2020-01-31', \n",
    "        ), \n",
    "    ])\n",
    "])\n",
    "daiei_data(sql).to_csv('urikaktrn_20200101_20200131.csv', index=False, quoting=csv.QUOTE_ALL)"
   ]
  },
  {
   "cell_type": "code",
   "execution_count": 38,
   "metadata": {},
   "outputs": [
    {
     "data": {
      "text/plain": "'s and s and s and s'"
     },
     "execution_count": 38,
     "metadata": {},
     "output_type": "execute_result"
    }
   ],
   "source": [
    "s and '.join"
   ]
  },
  {
   "cell_type": "code",
   "execution_count": null,
   "metadata": {},
   "outputs": [],
   "source": []
  }
 ]
}